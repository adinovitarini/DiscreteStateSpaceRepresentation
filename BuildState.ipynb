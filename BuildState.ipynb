{
  "nbformat": 4,
  "nbformat_minor": 0,
  "metadata": {
    "colab": {
      "name": "Untitled1.ipynb",
      "provenance": [],
      "authorship_tag": "ABX9TyMd8iydQpO5iNNwKEjFc4MF",
      "include_colab_link": true
    },
    "kernelspec": {
      "name": "python3",
      "display_name": "Python 3"
    }
  },
  "cells": [
    {
      "cell_type": "markdown",
      "metadata": {
        "id": "view-in-github",
        "colab_type": "text"
      },
      "source": [
        "<a href=\"https://colab.research.google.com/github/adinovitarini/DiscreteStateSpaceRepresentation/blob/master/BuildState.ipynb\" target=\"_parent\"><img src=\"https://colab.research.google.com/assets/colab-badge.svg\" alt=\"Open In Colab\"/></a>"
      ]
    },
    {
      "cell_type": "code",
      "metadata": {
        "id": "JVD3BMDuABB8"
      },
      "source": [
        "import numpy as np\n",
        "def StateMatrix(g):\n",
        "    a = np.zeros((int(g),int(g)))\n",
        "    for i in range(0,int(g)):\n",
        "        for j in range(0,int(g)):\n",
        "            a[i,j]=input(\"Enter your value : \")\n",
        "    return a\n",
        "def InOutMatrix(g,h):\n",
        "    b = np.zeros((int(g),int(h)))\n",
        "    for i in range(0,int(g)):\n",
        "        for j in range(0,int(h)):\n",
        "            b[i,j]=input(\"Enter your value : \")\n",
        "    return b\n",
        "def initialCond(g,h):\n",
        "    x = np.zeros((int(g),int(h)))\n",
        "    for i in range(0,int(g)):\n",
        "        for j in range(0,int(h)):\n",
        "            x[i,j]=input(\"Enter initial condition of the system : \")\n",
        "    return x\n"
      ],
      "execution_count": null,
      "outputs": []
    }
  ]
}