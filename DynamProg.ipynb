{
  "nbformat": 4,
  "nbformat_minor": 0,
  "metadata": {
    "colab": {
      "name": "DynamProg.ipynb",
      "provenance": [],
      "authorship_tag": "ABX9TyPAMAEzqFViyszX24pLdZA8",
      "include_colab_link": true
    },
    "kernelspec": {
      "name": "python3",
      "display_name": "Python 3"
    }
  },
  "cells": [
    {
      "cell_type": "markdown",
      "metadata": {
        "id": "view-in-github",
        "colab_type": "text"
      },
      "source": [
        "<a href=\"https://colab.research.google.com/github/adinovitarini/DiscreteStateSpaceRepresentation/blob/master/DynamProg.ipynb\" target=\"_parent\"><img src=\"https://colab.research.google.com/assets/colab-badge.svg\" alt=\"Open In Colab\"/></a>"
      ]
    },
    {
      "cell_type": "markdown",
      "metadata": {
        "id": "XKzvbpt0oKzJ",
        "colab_type": "text"
      },
      "source": [
        "Dynammic Programming to find shortest problem which implemented in optimal control "
      ]
    },
    {
      "cell_type": "code",
      "metadata": {
        "id": "KUWMjkpsoTL7",
        "colab_type": "code",
        "colab": {
          "base_uri": "https://localhost:8080/",
          "height": 181
        },
        "outputId": "4c6599bd-a052-4e50-88f9-85f46331d580"
      },
      "source": [
        "import numpy as np \n",
        "from scipy import signal\n",
        "import matplotlib.pyplot as plt \n",
        "#Initialize the initial condition \n",
        "#x0 = (0 0)\n",
        "A = 1\n",
        "B = 1\n",
        "C = 1\n",
        "D = 0\n",
        "sys1 = signal.StateSpace(A,B,C,D)\n",
        "print(sys1)\n",
        "N = 10 #number of iteration \n",
        "J = np.zeros(N)\n",
        "print(J)\n",
        "for i in range(0,N):\n",
        "  J[i] = i*0.01\n",
        "print(J)"
      ],
      "execution_count": 36,
      "outputs": [
        {
          "output_type": "stream",
          "text": [
            "StateSpaceContinuous(\n",
            "array([[1]]),\n",
            "array([[1]]),\n",
            "array([[1]]),\n",
            "array([[0]]),\n",
            "dt: None\n",
            ")\n",
            "[0. 0. 0. 0. 0. 0. 0. 0. 0. 0.]\n",
            "[0.   0.01 0.02 0.03 0.04 0.05 0.06 0.07 0.08 0.09]\n"
          ],
          "name": "stdout"
        }
      ]
    }
  ]
}